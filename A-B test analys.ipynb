{
 "cells": [
  {
   "cell_type": "markdown",
   "id": "a2caff54",
   "metadata": {},
   "source": [
    "## Що ж ми тестували:"
   ]
  },
  {
   "cell_type": "markdown",
   "id": "f0236dc9",
   "metadata": {},
   "source": [
    "Група А: цим користувачам ми пропонуємо купити підписку за $4.99, щоб отримати доступ до преміум-функцій застосунку\n",
    "Група В: пропонуємо ту ж підписку, але з припискою про те, що це пропозиція зі знижкою 50%\n",
    "\n",
    "Для зручності припускаємо, що додаткові метрики не зазнали значних змін, тому аналізувати результати тесту будемо, спираючись на конверсію з інстала в платіж."
   ]
  },
  {
   "cell_type": "code",
   "execution_count": 1,
   "id": "7db228a7",
   "metadata": {},
   "outputs": [],
   "source": [
    "import numpy as np\n",
    "import pandas as pd\n",
    "import matplotlib.pyplot as pltq\n",
    "import seaborn as sns\n",
    "import datetime as dt\n",
    "from scipy import stats"
   ]
  },
  {
   "cell_type": "code",
   "execution_count": 2,
   "id": "54889f19",
   "metadata": {},
   "outputs": [],
   "source": [
    "import warnings\n",
    "warnings.simplefilter(action='ignore', category=FutureWarning)\n",
    "warnings.simplefilter(action='ignore', category=UserWarning)\n",
    "\n",
    "pd.set_option('display.max_columns', 700)\n",
    "pd.set_option('display.max_rows', 400)\n",
    "pd.set_option('display.min_rows', 10)\n",
    "pd.set_option('display.max_colwidth', 50)"
   ]
  },
  {
   "cell_type": "code",
   "execution_count": 7,
   "id": "674f6cd9",
   "metadata": {},
   "outputs": [
    {
     "data": {
      "text/html": [
       "<div>\n",
       "<style scoped>\n",
       "    .dataframe tbody tr th:only-of-type {\n",
       "        vertical-align: middle;\n",
       "    }\n",
       "\n",
       "    .dataframe tbody tr th {\n",
       "        vertical-align: top;\n",
       "    }\n",
       "\n",
       "    .dataframe thead th {\n",
       "        text-align: right;\n",
       "    }\n",
       "</style>\n",
       "<table border=\"1\" class=\"dataframe\">\n",
       "  <thead>\n",
       "    <tr style=\"text-align: right;\">\n",
       "      <th></th>\n",
       "      <th>user_id</th>\n",
       "      <th>timestamp</th>\n",
       "      <th>test_group</th>\n",
       "      <th>conversion</th>\n",
       "    </tr>\n",
       "  </thead>\n",
       "  <tbody>\n",
       "    <tr>\n",
       "      <th>0</th>\n",
       "      <td>7f6833e6-1141-4f20-b4b2-f1e31019b1fd</td>\n",
       "      <td>2023-07-04 04:40:55.848109</td>\n",
       "      <td>a</td>\n",
       "      <td>0</td>\n",
       "    </tr>\n",
       "    <tr>\n",
       "      <th>1</th>\n",
       "      <td>e6a6e960-d3f3-4074-a516-ba1e609b211e</td>\n",
       "      <td>2023-07-06 00:26:45.486187</td>\n",
       "      <td>b</td>\n",
       "      <td>0</td>\n",
       "    </tr>\n",
       "    <tr>\n",
       "      <th>2</th>\n",
       "      <td>4d3fbfa5-6847-410a-bac2-477f01d5f400</td>\n",
       "      <td>2023-07-10 20:24:33.639464</td>\n",
       "      <td>b</td>\n",
       "      <td>0</td>\n",
       "    </tr>\n",
       "    <tr>\n",
       "      <th>3</th>\n",
       "      <td>361457d9-a044-48f7-981c-d67dc3861679</td>\n",
       "      <td>2023-07-20 07:04:49.957013</td>\n",
       "      <td>b</td>\n",
       "      <td>0</td>\n",
       "    </tr>\n",
       "    <tr>\n",
       "      <th>4</th>\n",
       "      <td>285cd63d-7d03-427f-a062-1fa2dd2e77d6</td>\n",
       "      <td>2023-07-19 23:27:50.116680</td>\n",
       "      <td>b</td>\n",
       "      <td>0</td>\n",
       "    </tr>\n",
       "    <tr>\n",
       "      <th>...</th>\n",
       "      <td>...</td>\n",
       "      <td>...</td>\n",
       "      <td>...</td>\n",
       "      <td>...</td>\n",
       "    </tr>\n",
       "    <tr>\n",
       "      <th>19993</th>\n",
       "      <td>6763ae9a-515c-473e-af00-0d9c4f6a5bc7</td>\n",
       "      <td>2023-07-06 03:27:37.041104</td>\n",
       "      <td>b</td>\n",
       "      <td>0</td>\n",
       "    </tr>\n",
       "    <tr>\n",
       "      <th>19994</th>\n",
       "      <td>ac5600f2-4d16-4503-b115-f1a96728b6d1</td>\n",
       "      <td>2023-07-03 04:20:48.572143</td>\n",
       "      <td>a</td>\n",
       "      <td>0</td>\n",
       "    </tr>\n",
       "    <tr>\n",
       "      <th>19995</th>\n",
       "      <td>5a8b2630-209b-4d83-b47f-0f3d9dd568a8</td>\n",
       "      <td>2023-07-23 16:23:49.211910</td>\n",
       "      <td>b</td>\n",
       "      <td>1</td>\n",
       "    </tr>\n",
       "    <tr>\n",
       "      <th>19996</th>\n",
       "      <td>b572d68b-26ac-432b-9f88-83e0fdee4ca1</td>\n",
       "      <td>2023-07-03 18:26:20.880675</td>\n",
       "      <td>b</td>\n",
       "      <td>0</td>\n",
       "    </tr>\n",
       "    <tr>\n",
       "      <th>19997</th>\n",
       "      <td>3d313adc-c8d6-43f2-8b4e-e267b194ff78</td>\n",
       "      <td>2023-07-19 13:15:37.562340</td>\n",
       "      <td>b</td>\n",
       "      <td>0</td>\n",
       "    </tr>\n",
       "  </tbody>\n",
       "</table>\n",
       "<p>19998 rows × 4 columns</p>\n",
       "</div>"
      ],
      "text/plain": [
       "                                    user_id                   timestamp  \\\n",
       "0      7f6833e6-1141-4f20-b4b2-f1e31019b1fd  2023-07-04 04:40:55.848109   \n",
       "1      e6a6e960-d3f3-4074-a516-ba1e609b211e  2023-07-06 00:26:45.486187   \n",
       "2      4d3fbfa5-6847-410a-bac2-477f01d5f400  2023-07-10 20:24:33.639464   \n",
       "3      361457d9-a044-48f7-981c-d67dc3861679  2023-07-20 07:04:49.957013   \n",
       "4      285cd63d-7d03-427f-a062-1fa2dd2e77d6  2023-07-19 23:27:50.116680   \n",
       "...                                     ...                         ...   \n",
       "19993  6763ae9a-515c-473e-af00-0d9c4f6a5bc7  2023-07-06 03:27:37.041104   \n",
       "19994  ac5600f2-4d16-4503-b115-f1a96728b6d1  2023-07-03 04:20:48.572143   \n",
       "19995  5a8b2630-209b-4d83-b47f-0f3d9dd568a8  2023-07-23 16:23:49.211910   \n",
       "19996  b572d68b-26ac-432b-9f88-83e0fdee4ca1  2023-07-03 18:26:20.880675   \n",
       "19997  3d313adc-c8d6-43f2-8b4e-e267b194ff78  2023-07-19 13:15:37.562340   \n",
       "\n",
       "      test_group  conversion  \n",
       "0              a           0  \n",
       "1              b           0  \n",
       "2              b           0  \n",
       "3              b           0  \n",
       "4              b           0  \n",
       "...          ...         ...  \n",
       "19993          b           0  \n",
       "19994          a           0  \n",
       "19995          b           1  \n",
       "19996          b           0  \n",
       "19997          b           0  \n",
       "\n",
       "[19998 rows x 4 columns]"
      ]
     },
     "execution_count": 7,
     "metadata": {},
     "output_type": "execute_result"
    }
   ],
   "source": [
    "df = pd.read_csv('dz/ab_test_data.csv')\n",
    "df"
   ]
  },
  {
   "cell_type": "code",
   "execution_count": 4,
   "id": "14b909e1",
   "metadata": {},
   "outputs": [
    {
     "data": {
      "text/plain": [
       "Index(['user_id', 'timestamp', 'test_group', 'conversion'], dtype='object')"
      ]
     },
     "execution_count": 4,
     "metadata": {},
     "output_type": "execute_result"
    }
   ],
   "source": [
    "df.columns"
   ]
  },
  {
   "cell_type": "markdown",
   "id": "45a8a1e7",
   "metadata": {},
   "source": [
    "1.1 Кількість користувачів в групах A та B"
   ]
  },
  {
   "cell_type": "code",
   "execution_count": 5,
   "id": "cf138549",
   "metadata": {},
   "outputs": [
    {
     "data": {
      "text/plain": [
       "test_group\n",
       "a    10013\n",
       "b     9985\n",
       "Name: user_id, dtype: int64"
      ]
     },
     "execution_count": 5,
     "metadata": {},
     "output_type": "execute_result"
    }
   ],
   "source": [
    "df = df.groupby('test_group')['user_id'].nunique()\n",
    "df"
   ]
  },
  {
   "cell_type": "code",
   "execution_count": 8,
   "id": "a41f1afc",
   "metadata": {},
   "outputs": [],
   "source": [
    "users_in_group_a = df.loc[df['test_group'] == 'a', 'user_id'].nunique()\n",
    "users_in_group_b = df.loc[df['test_group'] == 'b', 'user_id'].nunique()"
   ]
  },
  {
   "cell_type": "code",
   "execution_count": 9,
   "id": "975f9a9a",
   "metadata": {},
   "outputs": [
    {
     "data": {
      "text/plain": [
       "10013"
      ]
     },
     "execution_count": 9,
     "metadata": {},
     "output_type": "execute_result"
    }
   ],
   "source": [
    "users_in_group_a"
   ]
  },
  {
   "cell_type": "code",
   "execution_count": 10,
   "id": "ca715879",
   "metadata": {},
   "outputs": [
    {
     "data": {
      "text/plain": [
       "9985"
      ]
     },
     "execution_count": 10,
     "metadata": {},
     "output_type": "execute_result"
    }
   ],
   "source": [
    "users_in_group_b"
   ]
  },
  {
   "cell_type": "markdown",
   "id": "d6de51ef",
   "metadata": {},
   "source": [
    "1.2 Кількість конверсій в групах A та B відповідно"
   ]
  },
  {
   "cell_type": "code",
   "execution_count": 71,
   "id": "a970553d",
   "metadata": {},
   "outputs": [
    {
     "data": {
      "text/plain": [
       "611"
      ]
     },
     "execution_count": 71,
     "metadata": {},
     "output_type": "execute_result"
    }
   ],
   "source": [
    "group_a=df.loc[df['test_group'] == 'a', 'conversion'].sum()\n",
    "group_a"
   ]
  },
  {
   "cell_type": "code",
   "execution_count": 72,
   "id": "0a410c8a",
   "metadata": {},
   "outputs": [
    {
     "data": {
      "text/plain": [
       "889"
      ]
     },
     "execution_count": 72,
     "metadata": {},
     "output_type": "execute_result"
    }
   ],
   "source": [
    "group_b = df.loc[df['test_group'] == 'b', 'conversion'].sum()\n",
    "group_b"
   ]
  },
  {
   "cell_type": "markdown",
   "id": "7dbf592f",
   "metadata": {},
   "source": [
    "1.3 Рівень конверсії в групах A та B відповідно"
   ]
  },
  {
   "cell_type": "code",
   "execution_count": 98,
   "id": "f36261ff",
   "metadata": {},
   "outputs": [
    {
     "data": {
      "text/plain": [
       "6.102067312493758"
      ]
     },
     "execution_count": 98,
     "metadata": {},
     "output_type": "execute_result"
    }
   ],
   "source": [
    "(group_a/users_in_group_a)*100"
   ]
  },
  {
   "cell_type": "code",
   "execution_count": 99,
   "id": "8ccb4020",
   "metadata": {},
   "outputs": [
    {
     "data": {
      "text/plain": [
       "8.903355032548824"
      ]
     },
     "execution_count": 99,
     "metadata": {},
     "output_type": "execute_result"
    }
   ],
   "source": [
    "(group_b/users_in_group_b)*100"
   ]
  },
  {
   "cell_type": "markdown",
   "id": "27978553",
   "metadata": {},
   "source": [
    "1.4 Дату початку та дату кінця тесту, а також тривалість тесту в днях."
   ]
  },
  {
   "cell_type": "code",
   "execution_count": 58,
   "id": "90009f41",
   "metadata": {},
   "outputs": [
    {
     "name": "stdout",
     "output_type": "stream",
     "text": [
      "2023-07-03 01:42:34.033708\n",
      "2023-07-25 01:41:19.152664\n",
      "Start: 2023-07-03 01:42:34.033708, End: 2023-07-25 01:41:19.152664, duration of days: 21\n"
     ]
    }
   ],
   "source": [
    "from datetime import datetime as dt\n",
    "start_test = min(df['timestamp'])\n",
    "end_test = max(df['timestamp'])и\n",
    "print(start_test_date)\n",
    "print(end_test_date)\n",
    "test_dur = (dt.strptime(end_test, \"%Y-%m-%d %H:%M:%S.%f\") - dt.strptime(start_test, \"%Y-%m-%d %H:%M:%S.%f\")).days\n",
    "print(f\"Start: {start_test}, End: {end_test}, duration of days: {test_dur}\")"
   ]
  },
  {
   "cell_type": "markdown",
   "id": "815bb8cb",
   "metadata": {},
   "source": [
    "Обери статистичний критерій для тестування гіпотез на свій розсуд та обрахуй значення статистики та p-value. Перевір, чи можемо ми відхили нульову гіпотезу. Не забудь уточнити, який критерій використовуєш 😉"
   ]
  },
  {
   "cell_type": "code",
   "execution_count": 17,
   "id": "ffa32f39",
   "metadata": {},
   "outputs": [],
   "source": [
    "from scipy.stats import ttest_ind_from_stats"
   ]
  },
  {
   "cell_type": "code",
   "execution_count": 12,
   "id": "d9c7a004",
   "metadata": {},
   "outputs": [
    {
     "data": {
      "text/html": [
       "<div>\n",
       "<style scoped>\n",
       "    .dataframe tbody tr th:only-of-type {\n",
       "        vertical-align: middle;\n",
       "    }\n",
       "\n",
       "    .dataframe tbody tr th {\n",
       "        vertical-align: top;\n",
       "    }\n",
       "\n",
       "    .dataframe thead tr th {\n",
       "        text-align: left;\n",
       "    }\n",
       "\n",
       "    .dataframe thead tr:last-of-type th {\n",
       "        text-align: right;\n",
       "    }\n",
       "</style>\n",
       "<table border=\"1\" class=\"dataframe\">\n",
       "  <thead>\n",
       "    <tr>\n",
       "      <th></th>\n",
       "      <th colspan=\"8\" halign=\"left\">conversion</th>\n",
       "    </tr>\n",
       "    <tr>\n",
       "      <th></th>\n",
       "      <th>count</th>\n",
       "      <th>mean</th>\n",
       "      <th>std</th>\n",
       "      <th>min</th>\n",
       "      <th>25%</th>\n",
       "      <th>50%</th>\n",
       "      <th>75%</th>\n",
       "      <th>max</th>\n",
       "    </tr>\n",
       "    <tr>\n",
       "      <th>test_group</th>\n",
       "      <th></th>\n",
       "      <th></th>\n",
       "      <th></th>\n",
       "      <th></th>\n",
       "      <th></th>\n",
       "      <th></th>\n",
       "      <th></th>\n",
       "      <th></th>\n",
       "    </tr>\n",
       "  </thead>\n",
       "  <tbody>\n",
       "    <tr>\n",
       "      <th>a</th>\n",
       "      <td>10013.0</td>\n",
       "      <td>0.061021</td>\n",
       "      <td>0.239380</td>\n",
       "      <td>0.0</td>\n",
       "      <td>0.0</td>\n",
       "      <td>0.0</td>\n",
       "      <td>0.0</td>\n",
       "      <td>1.0</td>\n",
       "    </tr>\n",
       "    <tr>\n",
       "      <th>b</th>\n",
       "      <td>9985.0</td>\n",
       "      <td>0.089034</td>\n",
       "      <td>0.284806</td>\n",
       "      <td>0.0</td>\n",
       "      <td>0.0</td>\n",
       "      <td>0.0</td>\n",
       "      <td>0.0</td>\n",
       "      <td>1.0</td>\n",
       "    </tr>\n",
       "  </tbody>\n",
       "</table>\n",
       "</div>"
      ],
      "text/plain": [
       "           conversion                                             \n",
       "                count      mean       std  min  25%  50%  75%  max\n",
       "test_group                                                        \n",
       "a             10013.0  0.061021  0.239380  0.0  0.0  0.0  0.0  1.0\n",
       "b              9985.0  0.089034  0.284806  0.0  0.0  0.0  0.0  1.0"
      ]
     },
     "execution_count": 12,
     "metadata": {},
     "output_type": "execute_result"
    }
   ],
   "source": [
    "df.groupby('test_group').describe()"
   ]
  },
  {
   "cell_type": "code",
   "execution_count": null,
   "id": "5f732da0",
   "metadata": {},
   "outputs": [],
   "source": []
  },
  {
   "cell_type": "code",
   "execution_count": 21,
   "id": "0cbb9322",
   "metadata": {},
   "outputs": [
    {
     "data": {
      "text/plain": [
       "True"
      ]
     },
     "execution_count": 21,
     "metadata": {},
     "output_type": "execute_result"
    }
   ],
   "source": [
    "statistic, pvalue = ttest_ind_from_stats(mean1=0.061021, std1=0.239380, nobs1=10013,\n",
    "                     mean2=0.089034, std2=0.284806, nobs2=9985,\n",
    "                    alternative = 'less')\n",
    "pvalue <0.05"
   ]
  },
  {
   "cell_type": "markdown",
   "id": "305b22f7",
   "metadata": {},
   "source": [
    "# Тест з перестановками"
   ]
  },
  {
   "cell_type": "code",
   "execution_count": 24,
   "id": "d95e259f",
   "metadata": {},
   "outputs": [
    {
     "data": {
      "text/plain": [
       "-7.5299531387344185"
      ]
     },
     "execution_count": 24,
     "metadata": {},
     "output_type": "execute_result"
    }
   ],
   "source": [
    "statistic, pvalue = stats.ttest_ind(a=df[df['test_group']=='a']['conversion'],\n",
    "                                    b=df[df['test_group']=='b']['conversion'],\n",
    "                                    alternative = 'less')\n",
    "statistic"
   ]
  },
  {
   "cell_type": "code",
   "execution_count": 30,
   "id": "1202d212",
   "metadata": {},
   "outputs": [],
   "source": [
    "a=df[df['test_group']=='a']['conversion']\n",
    "b=df[df['test_group']=='b']['conversion']\n",
    "\n",
    "def statistic(x, y):\n",
    "    return stats.ttest_ind(x, y, alternative='less').statistic\n",
    "\n",
    "result = stats.permutation_test(data=(a, b),\n",
    "statistic=statistic,\n",
    "n_resamples=1000)"
   ]
  },
  {
   "cell_type": "markdown",
   "id": "8ed8a0ca",
   "metadata": {},
   "source": [
    "Побудуй візуалізацію для порівняння середніх значень у групах з 95% довірчими інтервалами\n"
   ]
  },
  {
   "cell_type": "code",
   "execution_count": 33,
   "id": "f28498c4",
   "metadata": {},
   "outputs": [
    {
     "data": {
      "text/plain": [
       "<Axes: ylabel='Count'>"
      ]
     },
     "execution_count": 33,
     "metadata": {},
     "output_type": "execute_result"
    },
    {
     "data": {
      "image/png": "[encoded data removed]",
      "text/plain": [
       "<Figure size 1000x600 with 1 Axes>"
      ]
     },
     "metadata": {},
     "output_type": "display_data"
    }
   ],
   "source": [
    "plt.figure(figsize=(10,6))\n",
    "\n",
    "sns.histplot(result.null_distribution)"
   ]
  },
  {
   "cell_type": "code",
   "execution_count": 37,
   "id": "d802e4e1",
   "metadata": {},
   "outputs": [
    {
     "data": {
      "text/plain": [
       "<Axes: xlabel='test_group', ylabel='conversion'>"
      ]
     },
     "execution_count": 37,
     "metadata": {},
     "output_type": "execute_result"
    },
    {
     "data": {
      "image/png": "[encoded data removed]",
      "text/plain": [
       "<Figure size 600x400 with 1 Axes>"
      ]
     },
     "metadata": {},
     "output_type": "display_data"
    }
   ],
   "source": [
    "plt.figure(figsize=(6,4))\n",
    "sns.barplot(x=df['test_group'],\n",
    "            y=df['conversion'])"
   ]
  },
  {
   "cell_type": "markdown",
   "id": "3a10fa73",
   "metadata": {},
   "source": [
    "Графік, що відображатиме зміну конверсії в часі"
   ]
  },
  {
   "cell_type": "code",
   "execution_count": 89,
   "id": "c0d0b209",
   "metadata": {},
   "outputs": [
    {
     "data": {
      "text/plain": [
       "Text(0, 0.5, 'Cumulative conversion Rate')"
      ]
     },
     "execution_count": 89,
     "metadata": {},
     "output_type": "execute_result"
    },
    {
     "data": {
      "image/png": "[encoded data removed]",
      "text/plain": [
       "<Figure size 2000x600 with 1 Axes>"
      ]
     },
     "metadata": {},
     "output_type": "display_data"
    }
   ],
   "source": [
    "df['timestamp'] = pd.to_datetime(df['timestamp'])\n",
    "\n",
    "df.sort_values(by='timestamp', inplace=True)\n",
    "\n",
    "df.set_index('timestamp', inplace=True)\n",
    "\n",
    "cumul_a = df[df['test_group'] == 'a']['conversion'].expanding().mean()\n",
    "cumul_b = df[df['test_group'] == 'b']['conversion'].expanding().mean()\n",
    "\n",
    "plt.figure(figsize=(20, 6))\n",
    "plt.plot(cumul_a, label='a')\n",
    "plt.plot(cumul_b, label='b')\n",
    "plt.title('Зміна коверсії')\n",
    "plt.xlabel('Час')\n",
    "plt.ylabel('Cumulative conversion Rate')"
   ]
  }
 ],
 "metadata": {
  "celltoolbar": "Raw Cell Format",
  "kernelspec": {
   "display_name": "Python 3 (ipykernel)",
   "language": "python",
   "name": "python3"
  },
  "language_info": {
   "codemirror_mode": {
    "name": "ipython",
    "version": 3
   },
   "file_extension": ".py",
   "mimetype": "text/x-python",
   "name": "python",
   "nbconvert_exporter": "python",
   "pygments_lexer": "ipython3",
   "version": "3.11.4"
  }
 },
 "nbformat": 4,
 "nbformat_minor": 5
}
